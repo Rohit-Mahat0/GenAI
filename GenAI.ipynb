{
 "cells": [
  {
   "cell_type": "code",
   "execution_count": 2,
   "id": "3b6644eb",
   "metadata": {},
   "outputs": [
    {
     "data": {
      "application/vnd.jupyter.widget-view+json": {
       "model_id": "49a0ec5e7af74a13a560f9f81314d198",
       "version_major": 2,
       "version_minor": 0
      },
      "text/plain": [
       "Downloading:   0%|          | 0.00/79.0 [00:00<?, ?B/s]"
      ]
     },
     "metadata": {},
     "output_type": "display_data"
    },
    {
     "data": {
      "application/vnd.jupyter.widget-view+json": {
       "model_id": "9a37fed600444718a1ef4283f075012e",
       "version_major": 2,
       "version_minor": 0
      },
      "text/plain": [
       "Downloading:   0%|          | 0.00/899k [00:00<?, ?B/s]"
      ]
     },
     "metadata": {},
     "output_type": "display_data"
    },
    {
     "data": {
      "application/vnd.jupyter.widget-view+json": {
       "model_id": "fd846d7db26842348e370b4c1434cafc",
       "version_major": 2,
       "version_minor": 0
      },
      "text/plain": [
       "Downloading:   0%|          | 0.00/456k [00:00<?, ?B/s]"
      ]
     },
     "metadata": {},
     "output_type": "display_data"
    },
    {
     "data": {
      "application/vnd.jupyter.widget-view+json": {
       "model_id": "2229f7090ddc439690b2554df10f230d",
       "version_major": 2,
       "version_minor": 0
      },
      "text/plain": [
       "Downloading:   0%|          | 0.00/772 [00:00<?, ?B/s]"
      ]
     },
     "metadata": {},
     "output_type": "display_data"
    },
    {
     "data": {
      "application/vnd.jupyter.widget-view+json": {
       "model_id": "33adbfb62c634bd4945f938c2ea43e4f",
       "version_major": 2,
       "version_minor": 0
      },
      "text/plain": [
       "Downloading:   0%|          | 0.00/496M [00:00<?, ?B/s]"
      ]
     },
     "metadata": {},
     "output_type": "display_data"
    }
   ],
   "source": [
    "from transformers import AutoTokenizer, AutoModelForQuestionAnswering\n",
    "\n",
    "tokenizer = AutoTokenizer.from_pretrained(\"deepset/roberta-base-squad2\")\n",
    "model = AutoModelForQuestionAnswering.from_pretrained(\"deepset/roberta-base-squad2\")\n"
   ]
  },
  {
   "cell_type": "code",
   "execution_count": 26,
   "id": "8191ace0",
   "metadata": {},
   "outputs": [
    {
     "name": "stdout",
     "output_type": "stream",
     "text": [
      "Answer: 2017\n",
      "Confidence Level: 0.017780479043722153\n"
     ]
    }
   ],
   "source": [
    "from docx import Document\n",
    "from transformers import AutoTokenizer, AutoModelForQuestionAnswering, pipeline\n",
    "\n",
    "# Load the Word document\n",
    "doc = Document(r\"C:\\Users\\013224\\Downloads\\chatgpt.docx\")\n",
    "\n",
    "text = ''\n",
    "tables_data = []\n",
    "\n",
    "# Extract text and table data\n",
    "for element in doc.element.body:\n",
    "    if element.tag.endswith('tbl'):  # If it's a table\n",
    "        table = [\n",
    "            [' '.join(paragraph.text if paragraph.text is not None else '' for paragraph in cell)]\n",
    "            for row in element\n",
    "            for cell in row\n",
    "        ]\n",
    "        tables_data.append(table)\n",
    "    elif element.text is not None:  # For non-table elements\n",
    "        text += element.text\n",
    "\n",
    "# Load model & tokenizer\n",
    "model_name = \"deepset/roberta-base-squad2\"\n",
    "model = AutoModelForQuestionAnswering.from_pretrained(model_name)\n",
    "tokenizer = AutoTokenizer.from_pretrained(model_name)\n",
    "\n",
    "# Question-answering pipeline using the extracted text as the context\n",
    "nlp = pipeline('question-answering', model=model, tokenizer=tokenizer)\n",
    "question = \"what are the years having revenue more than 130 crore?\"\n",
    "\n",
    "# Combining text and table data for context\n",
    "context = '\\n\\n'.join([\n",
    "    text,\n",
    "    *['\\n'.join(['\\t'.join(cell) for cell in table]) for table in tables_data]\n",
    "])\n",
    "\n",
    "res = nlp(question=question, context=context)\n",
    "\n",
    "answer = res['answer']\n",
    "confidence = res['score']  # Confidence level of the answer\n",
    "\n",
    "# Define a confidence threshold\n",
    "confidence_threshold = 0.00\n",
    "\n",
    "# Check if the answer is not present in the context or if the confidence is low\n",
    "if confidence < confidence_threshold or answer not in context or not answer.strip():\n",
    "    print(\"I don't know.\")\n",
    "else:\n",
    "    print(f\"Answer: {answer}\")\n",
    "    print(f\"Confidence Level: {confidence}\")\n"
   ]
  },
  {
   "cell_type": "code",
   "execution_count": null,
   "id": "ef98eddb",
   "metadata": {},
   "outputs": [],
   "source": []
  }
 ],
 "metadata": {
  "kernelspec": {
   "display_name": "Python 3 (ipykernel)",
   "language": "python",
   "name": "python3"
  },
  "language_info": {
   "codemirror_mode": {
    "name": "ipython",
    "version": 3
   },
   "file_extension": ".py",
   "mimetype": "text/x-python",
   "name": "python",
   "nbconvert_exporter": "python",
   "pygments_lexer": "ipython3",
   "version": "3.10.9"
  }
 },
 "nbformat": 4,
 "nbformat_minor": 5
}
